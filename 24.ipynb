{
  "nbformat": 4,
  "nbformat_minor": 0,
  "metadata": {
    "colab": {
      "provenance": [],
      "authorship_tag": "ABX9TyPLUpsNJCz601IQNScAGMdQ",
      "include_colab_link": true
    },
    "kernelspec": {
      "name": "python3",
      "display_name": "Python 3"
    },
    "language_info": {
      "name": "python"
    }
  },
  "cells": [
    {
      "cell_type": "markdown",
      "metadata": {
        "id": "view-in-github",
        "colab_type": "text"
      },
      "source": [
        "<a href=\"https://colab.research.google.com/github/V-Martyanov/reviews/blob/main/24.ipynb\" target=\"_parent\"><img src=\"https://colab.research.google.com/assets/colab-badge.svg\" alt=\"Open In Colab\"/></a>"
      ]
    },
    {
      "cell_type": "code",
      "execution_count": 3,
      "metadata": {
        "id": "-QMOC_uT6PtO"
      },
      "outputs": [],
      "source": [
        "from keras.datasets import imdb"
      ]
    },
    {
      "cell_type": "code",
      "source": [
        "(train_data, train_labels), (test_data, test_labels) = imdb.load_data(num_words=10000) # получаем данные"
      ],
      "metadata": {
        "id": "bB-OwJNx6UsE",
        "colab": {
          "base_uri": "https://localhost:8080/"
        },
        "outputId": "548f9922-9bc0-4caf-b193-7adffec743ce"
      },
      "execution_count": 4,
      "outputs": [
        {
          "output_type": "stream",
          "name": "stdout",
          "text": [
            "Downloading data from https://storage.googleapis.com/tensorflow/tf-keras-datasets/imdb.npz\n",
            "17464789/17464789 [==============================] - 0s 0us/step\n"
          ]
        }
      ]
    },
    {
      "cell_type": "code",
      "source": [
        "train_data[123] # один отзыв, который состоит из индексов, по которым подбираются слова "
      ],
      "metadata": {
        "colab": {
          "base_uri": "https://localhost:8080/"
        },
        "id": "dtBbf9b76VFS",
        "outputId": "dfed95af-0180-4f6f-8e42-8dec03d47c56"
      },
      "execution_count": 5,
      "outputs": [
        {
          "output_type": "execute_result",
          "data": {
            "text/plain": [
              "[1,\n",
              " 307,\n",
              " 5,\n",
              " 1301,\n",
              " 20,\n",
              " 1026,\n",
              " 2511,\n",
              " 87,\n",
              " 2775,\n",
              " 52,\n",
              " 116,\n",
              " 5,\n",
              " 31,\n",
              " 7,\n",
              " 4,\n",
              " 91,\n",
              " 1220,\n",
              " 102,\n",
              " 13,\n",
              " 28,\n",
              " 110,\n",
              " 11,\n",
              " 6,\n",
              " 137,\n",
              " 13,\n",
              " 115,\n",
              " 219,\n",
              " 141,\n",
              " 35,\n",
              " 221,\n",
              " 956,\n",
              " 54,\n",
              " 13,\n",
              " 16,\n",
              " 11,\n",
              " 2714,\n",
              " 61,\n",
              " 322,\n",
              " 423,\n",
              " 12,\n",
              " 38,\n",
              " 76,\n",
              " 59,\n",
              " 1803,\n",
              " 72,\n",
              " 8,\n",
              " 2,\n",
              " 23,\n",
              " 5,\n",
              " 967,\n",
              " 12,\n",
              " 38,\n",
              " 85,\n",
              " 62,\n",
              " 358,\n",
              " 99]"
            ]
          },
          "metadata": {},
          "execution_count": 5
        }
      ]
    },
    {
      "cell_type": "markdown",
      "source": [
        "ДЗ"
      ],
      "metadata": {
        "id": "HrbjDnmEBnYB"
      }
    },
    {
      "cell_type": "code",
      "source": [
        "n = \"1 307 5 1301 20 1026 2511 87 2775 52 116 5 31 7 4 91 1220 102 13 28 110 11 6 137 13 115 219 141 35 221 956 54 13 16 11 2714 61 322 423 12 38 76 59 1803 72 8 2 23 5 967 12 38 85 62 358 99\""
      ],
      "metadata": {
        "id": "LMTMlNC9Yz4h"
      },
      "execution_count": 6,
      "outputs": []
    },
    {
      "cell_type": "code",
      "source": [
        "t = \"\"\n",
        "newN = []\n",
        "for i in n:\n",
        "  if i != \" \":\n",
        "    t+=i\n",
        "  else:\n",
        "    newN.append(int(t))\n",
        "    t=\"\""
      ],
      "metadata": {
        "id": "mhjs7t6AZAB3"
      },
      "execution_count": 7,
      "outputs": []
    },
    {
      "cell_type": "code",
      "source": [
        "newN # либо через split()"
      ],
      "metadata": {
        "colab": {
          "base_uri": "https://localhost:8080/"
        },
        "id": "trtYpnb4ZEbH",
        "outputId": "d8eb2225-9676-44a2-d93c-0a9902b42cef"
      },
      "execution_count": 8,
      "outputs": [
        {
          "output_type": "execute_result",
          "data": {
            "text/plain": [
              "[1,\n",
              " 307,\n",
              " 5,\n",
              " 1301,\n",
              " 20,\n",
              " 1026,\n",
              " 2511,\n",
              " 87,\n",
              " 2775,\n",
              " 52,\n",
              " 116,\n",
              " 5,\n",
              " 31,\n",
              " 7,\n",
              " 4,\n",
              " 91,\n",
              " 1220,\n",
              " 102,\n",
              " 13,\n",
              " 28,\n",
              " 110,\n",
              " 11,\n",
              " 6,\n",
              " 137,\n",
              " 13,\n",
              " 115,\n",
              " 219,\n",
              " 141,\n",
              " 35,\n",
              " 221,\n",
              " 956,\n",
              " 54,\n",
              " 13,\n",
              " 16,\n",
              " 11,\n",
              " 2714,\n",
              " 61,\n",
              " 322,\n",
              " 423,\n",
              " 12,\n",
              " 38,\n",
              " 76,\n",
              " 59,\n",
              " 1803,\n",
              " 72,\n",
              " 8,\n",
              " 2,\n",
              " 23,\n",
              " 5,\n",
              " 967,\n",
              " 12,\n",
              " 38,\n",
              " 85,\n",
              " 62,\n",
              " 358]"
            ]
          },
          "metadata": {},
          "execution_count": 8
        }
      ]
    },
    {
      "cell_type": "code",
      "source": [
        "train_labels[0] # значения отзыва, 1 - положительный, 0 - отрицательный "
      ],
      "metadata": {
        "colab": {
          "base_uri": "https://localhost:8080/"
        },
        "id": "xlWIDwDO7rC5",
        "outputId": "bd8a325f-efd0-4bf3-e939-7da1def9ab77"
      },
      "execution_count": 9,
      "outputs": [
        {
          "output_type": "execute_result",
          "data": {
            "text/plain": [
              "1"
            ]
          },
          "metadata": {},
          "execution_count": 9
        }
      ]
    },
    {
      "cell_type": "code",
      "source": [
        "word_index=imdb.get_word_index() # получения словаря (слово, индекс)"
      ],
      "metadata": {
        "colab": {
          "base_uri": "https://localhost:8080/"
        },
        "id": "bS26VPLB6YBB",
        "outputId": "0f82923d-5a3a-4a74-82fd-205283523780"
      },
      "execution_count": 10,
      "outputs": [
        {
          "output_type": "stream",
          "name": "stdout",
          "text": [
            "Downloading data from https://storage.googleapis.com/tensorflow/tf-keras-datasets/imdb_word_index.json\n",
            "1641221/1641221 [==============================] - 0s 0us/step\n"
          ]
        }
      ]
    },
    {
      "cell_type": "code",
      "source": [
        "reverse_word_index = dict([(value, key) for (key,value) in word_index.items()]) # переворачивания словар (индекс, слово)"
      ],
      "metadata": {
        "id": "2GclPbSy6an9"
      },
      "execution_count": 11,
      "outputs": []
    },
    {
      "cell_type": "code",
      "source": [
        "reverse_word_index[1] # демонстрация, перевернутого словоря(словарь отсортировон по частоте использования слов)"
      ],
      "metadata": {
        "colab": {
          "base_uri": "https://localhost:8080/",
          "height": 35
        },
        "id": "oALwwSer6csB",
        "outputId": "f8366a6f-a8a2-40de-b5a4-f1520657d012"
      },
      "execution_count": 12,
      "outputs": [
        {
          "output_type": "execute_result",
          "data": {
            "text/plain": [
              "'the'"
            ],
            "application/vnd.google.colaboratory.intrinsic+json": {
              "type": "string"
            }
          },
          "metadata": {},
          "execution_count": 12
        }
      ]
    },
    {
      "cell_type": "code",
      "source": [
        "decoded_review = \" \".join([reverse_word_index.get(i-3, \"?\") for i in train_data[0]]) # демонстрация подстановки вместо индекса слова"
      ],
      "metadata": {
        "id": "a1Z_x4cF6ewd"
      },
      "execution_count": 13,
      "outputs": []
    },
    {
      "cell_type": "code",
      "source": [
        "decoded_review"
      ],
      "metadata": {
        "colab": {
          "base_uri": "https://localhost:8080/",
          "height": 157
        },
        "id": "Ypb5HJ0O7Jh9",
        "outputId": "b80bd589-4301-46b3-9fa4-110f229ea6e5"
      },
      "execution_count": 14,
      "outputs": [
        {
          "output_type": "execute_result",
          "data": {
            "text/plain": [
              "\"? this film was just brilliant casting location scenery story direction everyone's really suited the part they played and you could just imagine being there robert ? is an amazing actor and now the same being director ? father came from the same scottish island as myself so i loved the fact there was a real connection with this film the witty remarks throughout the film were great it was just brilliant so much that i bought the film as soon as it was released for ? and would recommend it to everyone to watch and the fly fishing was amazing really cried at the end it was so sad and you know what they say if you cry at a film it must have been good and this definitely was also ? to the two little boy's that played the ? of norman and paul they were just brilliant children are often left out of the ? list i think because the stars that play them all grown up are such a big profile for the whole film but these children are amazing and should be praised for what they have done don't you think the whole story was so lovely because it was true and was someone's life after all that was shared with us all\""
            ],
            "application/vnd.google.colaboratory.intrinsic+json": {
              "type": "string"
            }
          },
          "metadata": {},
          "execution_count": 14
        }
      ]
    },
    {
      "cell_type": "code",
      "source": [
        "import numpy as np # подготовка данных для нашей модели\n",
        "def vectorize_sequences(sequences,dimension=10000):\n",
        "  results=np.zeros((len(sequences), dimension))\n",
        "  for i, sequence in enumerate(sequences):\n",
        "    results[i,sequence] = 1\n",
        "  return results\n",
        "x_train=vectorize_sequences(train_data) # тренировочные данные для модели\n",
        "x_test=vectorize_sequences(test_data) # настоящие данные"
      ],
      "metadata": {
        "id": "KgwZj_qX7Lnp"
      },
      "execution_count": 15,
      "outputs": []
    },
    {
      "cell_type": "code",
      "source": [
        "y_train = np.asarray(train_labels).astype(\"float32\") # перевод в массиввы\n",
        "y_test = np.asarray(test_labels).astype(\"float32\")"
      ],
      "metadata": {
        "id": "Z6fJ8WRi7T8D"
      },
      "execution_count": 16,
      "outputs": []
    },
    {
      "cell_type": "code",
      "source": [
        "x_train # демонстрация"
      ],
      "metadata": {
        "colab": {
          "base_uri": "https://localhost:8080/"
        },
        "id": "ZH0xSKGM7mFq",
        "outputId": "7a5fab08-d2ae-4be6-a5cc-f2e3119632dc"
      },
      "execution_count": 17,
      "outputs": [
        {
          "output_type": "execute_result",
          "data": {
            "text/plain": [
              "array([[0., 1., 1., ..., 0., 0., 0.],\n",
              "       [0., 1., 1., ..., 0., 0., 0.],\n",
              "       [0., 1., 1., ..., 0., 0., 0.],\n",
              "       ...,\n",
              "       [0., 1., 1., ..., 0., 0., 0.],\n",
              "       [0., 1., 1., ..., 0., 0., 0.],\n",
              "       [0., 1., 1., ..., 0., 0., 0.]])"
            ]
          },
          "metadata": {},
          "execution_count": 17
        }
      ]
    },
    {
      "cell_type": "code",
      "source": [
        "y_train # демонстрация"
      ],
      "metadata": {
        "colab": {
          "base_uri": "https://localhost:8080/"
        },
        "id": "9597c8y970IA",
        "outputId": "b2aacaed-6691-4479-8260-e7a61c914838"
      },
      "execution_count": 18,
      "outputs": [
        {
          "output_type": "execute_result",
          "data": {
            "text/plain": [
              "array([1., 0., 0., ..., 0., 1., 0.], dtype=float32)"
            ]
          },
          "metadata": {},
          "execution_count": 18
        }
      ]
    },
    {
      "cell_type": "code",
      "source": [
        "from keras import models\n",
        "from keras import layers\n",
        "model = models.Sequential() # начало создание\n",
        "model.add(layers.Dense(16 # кол-во нейронов\n",
        "                       , activation=\"relu\" # функция активации\n",
        "                       , input_shape=(10000,) # кол-во взодных данных\n",
        "                       )) # первый слой\n",
        "model.add(layers.Dense(16, activation=\"relu\")) # второй слой\n",
        "model.add(layers.Dense(1, activation=\"sigmoid\")) # третий слой"
      ],
      "metadata": {
        "id": "1hM270CJ73B7"
      },
      "execution_count": 19,
      "outputs": []
    },
    {
      "cell_type": "code",
      "source": [
        "model.compile(optimizer=\"rmsprop\", # это метод достижения лучших результатов\n",
        "              loss=\"binary_crossentropy\", # функция потерь\n",
        "              metrics=[\"accuracy\"])# Она показывает количество правильно проставленных \n",
        "#меток класса (истинно положительных и истинно отрицательных) от общего количества данных"
      ],
      "metadata": {
        "id": "dF8VqIGt8VXN"
      },
      "execution_count": 20,
      "outputs": []
    },
    {
      "cell_type": "code",
      "source": [
        "# подготовка данных для обучения модели\n",
        "x_val = x_train[10000:]\n",
        "y_val = y_train[10000:]\n",
        "# выборка данных для валидации\n",
        "x_valid = x_train[:10000]\n",
        "y_valid = y_train[:10000]"
      ],
      "metadata": {
        "id": "232k4iHn-lL3"
      },
      "execution_count": 21,
      "outputs": []
    },
    {
      "cell_type": "code",
      "source": [
        "history = model.fit(x_val,\n",
        "                    y_val,\n",
        "                    epochs=20,# кол-во эпох(циклов работы нашей схемы)\n",
        "                    batch_size=512,\n",
        "                    validation_data=(x_valid,y_valid)# валидация данных - определение на сколько успешна построенная модель\n",
        "                    )"
      ],
      "metadata": {
        "colab": {
          "base_uri": "https://localhost:8080/"
        },
        "id": "Ddhfuhi8jsVa",
        "outputId": "2640a308-4b5c-4cea-9116-53bfe6969dc5"
      },
      "execution_count": 22,
      "outputs": [
        {
          "output_type": "stream",
          "name": "stdout",
          "text": [
            "Epoch 1/20\n",
            "30/30 [==============================] - 3s 66ms/step - loss: 0.5074 - accuracy: 0.7747 - val_loss: 0.4089 - val_accuracy: 0.8325\n",
            "Epoch 2/20\n",
            "30/30 [==============================] - 1s 46ms/step - loss: 0.2939 - accuracy: 0.9041 - val_loss: 0.3054 - val_accuracy: 0.8819\n",
            "Epoch 3/20\n",
            "30/30 [==============================] - 1s 45ms/step - loss: 0.2138 - accuracy: 0.9279 - val_loss: 0.2772 - val_accuracy: 0.8908\n",
            "Epoch 4/20\n",
            "30/30 [==============================] - 1s 46ms/step - loss: 0.1666 - accuracy: 0.9460 - val_loss: 0.3068 - val_accuracy: 0.8787\n",
            "Epoch 5/20\n",
            "30/30 [==============================] - 2s 57ms/step - loss: 0.1358 - accuracy: 0.9579 - val_loss: 0.2857 - val_accuracy: 0.8875\n",
            "Epoch 6/20\n",
            "30/30 [==============================] - 1s 47ms/step - loss: 0.1084 - accuracy: 0.9674 - val_loss: 0.3114 - val_accuracy: 0.8842\n",
            "Epoch 7/20\n",
            "30/30 [==============================] - 1s 47ms/step - loss: 0.0911 - accuracy: 0.9729 - val_loss: 0.3177 - val_accuracy: 0.8821\n",
            "Epoch 8/20\n",
            "30/30 [==============================] - 1s 45ms/step - loss: 0.0708 - accuracy: 0.9803 - val_loss: 0.3431 - val_accuracy: 0.8796\n",
            "Epoch 9/20\n",
            "30/30 [==============================] - 1s 46ms/step - loss: 0.0606 - accuracy: 0.9835 - val_loss: 0.3676 - val_accuracy: 0.8779\n",
            "Epoch 10/20\n",
            "30/30 [==============================] - 1s 45ms/step - loss: 0.0457 - accuracy: 0.9893 - val_loss: 0.4181 - val_accuracy: 0.8698\n",
            "Epoch 11/20\n",
            "30/30 [==============================] - 1s 45ms/step - loss: 0.0382 - accuracy: 0.9905 - val_loss: 0.4374 - val_accuracy: 0.8762\n",
            "Epoch 12/20\n",
            "30/30 [==============================] - 1s 46ms/step - loss: 0.0296 - accuracy: 0.9939 - val_loss: 0.4539 - val_accuracy: 0.8749\n",
            "Epoch 13/20\n",
            "30/30 [==============================] - 1s 46ms/step - loss: 0.0218 - accuracy: 0.9963 - val_loss: 0.4919 - val_accuracy: 0.8721\n",
            "Epoch 14/20\n",
            "30/30 [==============================] - 1s 45ms/step - loss: 0.0176 - accuracy: 0.9973 - val_loss: 0.5347 - val_accuracy: 0.8720\n",
            "Epoch 15/20\n",
            "30/30 [==============================] - 1s 45ms/step - loss: 0.0138 - accuracy: 0.9985 - val_loss: 0.5596 - val_accuracy: 0.8716\n",
            "Epoch 16/20\n",
            "30/30 [==============================] - 1s 46ms/step - loss: 0.0111 - accuracy: 0.9987 - val_loss: 0.5959 - val_accuracy: 0.8684\n",
            "Epoch 17/20\n",
            "30/30 [==============================] - 1s 46ms/step - loss: 0.0090 - accuracy: 0.9987 - val_loss: 0.6281 - val_accuracy: 0.8706\n",
            "Epoch 18/20\n",
            "30/30 [==============================] - 1s 47ms/step - loss: 0.0043 - accuracy: 0.9999 - val_loss: 0.6729 - val_accuracy: 0.8682\n",
            "Epoch 19/20\n",
            "30/30 [==============================] - 2s 52ms/step - loss: 0.0084 - accuracy: 0.9981 - val_loss: 0.6915 - val_accuracy: 0.8684\n",
            "Epoch 20/20\n",
            "30/30 [==============================] - 1s 48ms/step - loss: 0.0024 - accuracy: 0.9999 - val_loss: 0.7269 - val_accuracy: 0.8668\n"
          ]
        }
      ]
    },
    {
      "cell_type": "code",
      "source": [
        "history_d = history.history  # получения словаря данных с помощью метода history"
      ],
      "metadata": {
        "id": "5Wfmcws6mNvz"
      },
      "execution_count": 23,
      "outputs": []
    },
    {
      "cell_type": "code",
      "source": [
        "import numpy as np"
      ],
      "metadata": {
        "id": "Xc-MElFIp4z-"
      },
      "execution_count": 24,
      "outputs": []
    },
    {
      "cell_type": "code",
      "source": [
        "history_d.keys() # что у нас за ключи\n",
        "# loss - потери данных\n",
        "# accuracy - точность предсказания\n",
        "# 'val_loss', 'val_accuracy' - валидационные данные"
      ],
      "metadata": {
        "colab": {
          "base_uri": "https://localhost:8080/"
        },
        "id": "YoKD2QNVp8HH",
        "outputId": "31e69e7e-6778-48a7-e05c-1ffb4f4b29ce"
      },
      "execution_count": 25,
      "outputs": [
        {
          "output_type": "execute_result",
          "data": {
            "text/plain": [
              "dict_keys(['loss', 'accuracy', 'val_loss', 'val_accuracy'])"
            ]
          },
          "metadata": {},
          "execution_count": 25
        }
      ]
    },
    {
      "cell_type": "code",
      "source": [
        "# это должно быть знакомо, по ключам и эпохам строим наш график\n",
        "# эпоха - занчения \"loss\" и \"val_loss\"\n",
        "import matplotlib.pyplot as plt\n",
        "# получаем данные на основе нашего обучения\n",
        "loss_values=history_d[\"loss\"]\n",
        "val_loss_values=history_d[\"val_loss\"]\n",
        "# создание list который будет показывать сегменты на оси ох\n",
        "epochs = range(1, len(history_d[\"accuracy\"]) + 1)\n",
        "# первый график для \n",
        "plt.plot(epochs,loss_values,\"ro\", label=\"Training loss\")\n",
        "# второй\n",
        "plt.plot(epochs,val_loss_values,\"b\", label=\"Validace loss\")\n",
        "plt.title(\"Training and Validace loss\")\n",
        "# метка по ох\n",
        "plt.xlabel(\"epochs\")\n",
        "# метка по оу\n",
        "plt.ylabel(\"loss\")\n",
        "plt.legend()\n",
        "# демонстрация\n",
        "plt.show()"
      ],
      "metadata": {
        "colab": {
          "base_uri": "https://localhost:8080/",
          "height": 295
        },
        "id": "pWYCIZ7KqDHO",
        "outputId": "4d9f9014-4325-435e-fc02-845480bc7e8e"
      },
      "execution_count": 26,
      "outputs": [
        {
          "output_type": "display_data",
          "data": {
            "text/plain": [
              "<Figure size 432x288 with 1 Axes>"
            ],
            "image/png": "[encoded data removed]"
          },
          "metadata": {
            "needs_background": "light"
          }
        }
      ]
    },
    {
      "cell_type": "code",
      "source": [],
      "metadata": {
        "id": "LyMneo2HsD0r",
        "colab": {
          "base_uri": "https://localhost:8080/"
        },
        "outputId": "efbcbe25-daeb-456b-d13a-139cdf5f9597"
      },
      "execution_count": 30,
      "outputs": [
        {
          "output_type": "execute_result",
          "data": {
            "text/plain": [
              "3"
            ]
          },
          "metadata": {},
          "execution_count": 30
        }
      ]
    },
    {
      "cell_type": "code",
      "source": [],
      "metadata": {
        "id": "SgAMUuzwFC_s"
      },
      "execution_count": null,
      "outputs": []
    }
  ]
}