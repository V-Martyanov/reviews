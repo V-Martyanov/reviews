{
  "nbformat": 4,
  "nbformat_minor": 0,
  "metadata": {
    "colab": {
      "provenance": [],
      "authorship_tag": "ABX9TyPkcpGhIbBOYCIpvVArgCx+",
      "include_colab_link": true
    },
    "kernelspec": {
      "name": "python3",
      "display_name": "Python 3"
    },
    "language_info": {
      "name": "python"
    }
  },
  "cells": [
    {
      "cell_type": "markdown",
      "metadata": {
        "id": "view-in-github",
        "colab_type": "text"
      },
      "source": [
        "<a href=\"https://colab.research.google.com/github/V-Martyanov/reviews/blob/main/01.ipynb\" target=\"_parent\"><img src=\"https://colab.research.google.com/assets/colab-badge.svg\" alt=\"Open In Colab\"/></a>"
      ]
    },
    {
      "cell_type": "code",
      "execution_count": null,
      "metadata": {
        "colab": {
          "base_uri": "https://localhost:8080/"
        },
        "id": "97MaVUzqHqn0",
        "outputId": "4a0a1899-f9e9-4cea-f304-4c89e0682990"
      },
      "outputs": [
        {
          "output_type": "stream",
          "name": "stdout",
          "text": [
            "0.9990889488055994\n"
          ]
        }
      ],
      "source": [
        "import numpy as np\n",
        " \n",
        " \n",
        "def sigmoid(x):\n",
        "    # Наша функция активации: f(x) = 1 / (1 + e^(-x))\n",
        "    return 1 / (1 + np.exp(-x))\n",
        " \n",
        " \n",
        "class Neuron:\n",
        "    def __init__(self, weights, bias):\n",
        "        self.weights = weights\n",
        "        self.bias = bias\n",
        " \n",
        "    def feedforward(self, inputs):\n",
        "        # Вводные данные о весе, добавление смещения \n",
        "        # и последующее использование функции активации\n",
        " \n",
        "        total = np.dot(self.weights, inputs) + self.bias\n",
        "        return sigmoid(total)\n",
        " \n",
        " \n",
        "weights = np.array([0, 1])  # w1 = 0, w2 = 1\n",
        "bias = 4  # b = 4\n",
        "n = Neuron(weights, bias)\n",
        " \n",
        "x = np.array([2, 3])  # x1 = 2, x2 = 3\n",
        "print(n.feedforward(x))"
      ]
    },
    {
      "cell_type": "code",
      "source": [
        "import numpy as np\n",
        " \n",
        " \n",
        "def sigmoid(x):\n",
        "    # Наша функция активации: f(x) = 1 / (1 + e^(-x))\n",
        "    return 1 / (1 + np.exp(-x))\n",
        " \n",
        " \n",
        "class Neuron:\n",
        "    def __init__(self, weights, bias):\n",
        "        self.w = weights\n",
        "        self.b = bias\n",
        " \n",
        "    def feedforward(self, inputs):\n",
        "        # Вводные данные о весе, добавление смещения \n",
        "        # и последующее использование функции активации\n",
        " \n",
        "        total = np.dot(self.w, inputs) + self.b\n",
        "        return sigmoid(total)\n",
        " \n",
        " \n",
        "class OurNeurons:\n",
        "    def __init__(self):\n",
        "        weights = np.array([0, 1])\n",
        "        bias = 0\n",
        " \n",
        "        # Класс Neuron из предыдущего раздела\n",
        "        self.h1 = Neuron(weights, bias)\n",
        "        self.h2 = Neuron(weights, bias)\n",
        "        self.o1 = Neuron(weights, bias)\n",
        " \n",
        "    def feedforward(self, x):\n",
        "        out_h1 = self.h1.feedforward(x)\n",
        "        out_h2 = self.h2.feedforward(x)\n",
        "        print(out_h1, \" \" , out_h2)\n",
        "        # Вводы для о1 являются выводами h1 и h2\n",
        "        out_o1 = self.o1.feedforward(np.array([out_h1, out_h2]))\n",
        " \n",
        "        return out_o1"
      ],
      "metadata": {
        "id": "6298-YoWHvSR"
      },
      "execution_count": null,
      "outputs": []
    },
    {
      "cell_type": "code",
      "source": [
        "network = OurNeurons()\n",
        "x = np.array([2, 3])\n",
        "print(network.feedforward(x))"
      ],
      "metadata": {
        "colab": {
          "base_uri": "https://localhost:8080/"
        },
        "id": "YGNa3sXTH6Ui",
        "outputId": "ac6a98e9-80ef-4cda-ef58-1b2257e16bad"
      },
      "execution_count": null,
      "outputs": [
        {
          "output_type": "stream",
          "name": "stdout",
          "text": [
            "0.9525741268224334   0.9525741268224334\n",
            "0.7216325609518421\n"
          ]
        }
      ]
    },
    {
      "cell_type": "code",
      "source": [],
      "metadata": {
        "id": "tJCgZuj2H6w1"
      },
      "execution_count": null,
      "outputs": []
    }
  ]
}